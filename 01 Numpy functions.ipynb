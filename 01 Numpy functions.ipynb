{
 "cells": [
  {
   "cell_type": "code",
   "execution_count": 20,
   "id": "e4a8fc87",
   "metadata": {},
   "outputs": [
    {
     "name": "stdout",
     "output_type": "stream",
     "text": [
      "[[0. 0. 0.]\n",
      " [0. 0. 0.]]\n"
     ]
    }
   ],
   "source": [
    "#Zeros function\n",
    "import numpy as np\n",
    "arr=np.zeros((2,3))\n",
    "print(arr)"
   ]
  },
  {
   "cell_type": "code",
   "execution_count": 6,
   "id": "0714fe4c",
   "metadata": {},
   "outputs": [
    {
     "name": "stdout",
     "output_type": "stream",
     "text": [
      "[[1. 1. 1. 1.]\n",
      " [1. 1. 1. 1.]\n",
      " [1. 1. 1. 1.]\n",
      " [1. 1. 1. 1.]\n",
      " [1. 1. 1. 1.]]\n"
     ]
    }
   ],
   "source": [
    "#ones function\n",
    "import numpy as np\n",
    "arr=np.ones((5,4))\n",
    "print(arr)"
   ]
  },
  {
   "cell_type": "code",
   "execution_count": 3,
   "id": "c89a104e",
   "metadata": {},
   "outputs": [
    {
     "name": "stdout",
     "output_type": "stream",
     "text": [
      "[[1. 0. 0. 0. 0.]\n",
      " [0. 1. 0. 0. 0.]\n",
      " [0. 0. 1. 0. 0.]\n",
      " [0. 0. 0. 1. 0.]\n",
      " [0. 0. 0. 0. 1.]]\n"
     ]
    }
   ],
   "source": [
    "#eye function = identity matrix\n",
    "import numpy as np\n",
    "arr=np.eye(5)\n",
    "print(arr)"
   ]
  },
  {
   "cell_type": "code",
   "execution_count": 6,
   "id": "a5c25789",
   "metadata": {},
   "outputs": [
    {
     "name": "stdout",
     "output_type": "stream",
     "text": [
      "[[5 0 0 0]\n",
      " [0 3 0 0]\n",
      " [0 0 6 0]\n",
      " [0 0 0 8]]\n"
     ]
    }
   ],
   "source": [
    "#diagonal function = diagonal matrix\n",
    "import numpy as np\n",
    "arr=np.diag([5,3,6,8])\n",
    "print(arr)"
   ]
  },
  {
   "cell_type": "code",
   "execution_count": 25,
   "id": "c23d465a",
   "metadata": {},
   "outputs": [
    {
     "name": "stdout",
     "output_type": "stream",
     "text": [
      "[33 39 35 19 11 19 34 22 45 18 46 13 30 17 22 10 17 21]\n",
      "[[33 39 35]\n",
      " [19 11 19]\n",
      " [34 22 45]\n",
      " [18 46 13]\n",
      " [30 17 22]\n",
      " [10 17 21]]\n",
      "Number of dimention of rsp is:  (6, 3)\n",
      "Dimention of array of rsp is:  2\n",
      "[[33 39]\n",
      " [35 19]\n",
      " [11 19]\n",
      " [34 22]\n",
      " [45 18]\n",
      " [46 13]\n",
      " [30 17]\n",
      " [22 10]\n",
      " [17 21]]\n",
      "Number of dimention of rrsp is:  (6, 3)\n",
      "Dimention of array of rrsp is:  2\n"
     ]
    }
   ],
   "source": [
    "#randint function\n",
    "import numpy as np\n",
    "arr=np.random.randint(10,51,18)            #(from,10 to 51, number of elements you want)\n",
    "print(arr)\n",
    "rsp=arr.reshape(6,3)\n",
    "rrsp=arr.reshape(9,-1)                      # -1 is used to automatically decide shape of array\n",
    "print(rsp)\n",
    "print(\"Number of dimention of rsp is: \",rsp.shape)       #rsp.shape is used to find number of dimentions of array\n",
    "print(\"Dimention of array of rsp is: \",rsp.ndim)\n",
    "print(rrsp)\n",
    "print(\"Number of dimention of rrsp is: \",rsp.shape)       #rsp.shape is used to find number of dimentions of array\n",
    "print(\"Dimention of array of rrsp is: \",rsp.ndim)               #ndim used to find dimention of an array"
   ]
  },
  {
   "cell_type": "code",
   "execution_count": 13,
   "id": "b733cac4",
   "metadata": {},
   "outputs": [
    {
     "name": "stdout",
     "output_type": "stream",
     "text": [
      "[0.39297998 0.29604683 0.29073727 0.30545682 0.05063057]\n",
      "Another example: \n",
      "[[0.26742081 0.08697196 0.38642935]\n",
      " [0.23774407 0.92677094 0.89071413]]\n"
     ]
    }
   ],
   "source": [
    "#rand function = returns values between 0 to 1\n",
    "import numpy as np  \n",
    "arr=np.random.rand(5)\n",
    "print(arr)\n",
    "#\"Another form of writing rand function\"\n",
    "print(\"Another example: \")\n",
    "arr1=np.random.rand(2,3)\n",
    "print(arr1)"
   ]
  },
  {
   "cell_type": "code",
   "execution_count": 15,
   "id": "98bf4257",
   "metadata": {},
   "outputs": [
    {
     "name": "stdout",
     "output_type": "stream",
     "text": [
      "[-0.79761469  0.0100316  -0.26639838  1.27602045 -1.57096217  1.14937557\n",
      "  0.14287887 -0.20234278]\n",
      "Another example: \n",
      "[[0.99880192 0.89318879 0.19422953 0.78307501]\n",
      " [0.26998377 0.17774961 0.93695666 0.76161667]\n",
      " [0.67567506 0.6414372  0.99411538 0.48916669]]\n"
     ]
    }
   ],
   "source": [
    "#randn function = it generates random positive nadd negative numbers near to zero \n",
    "import numpy as np\n",
    "arr=np.random.randn(8)\n",
    "print(arr)\n",
    "#\"Another way of writing randn function\"\n",
    "print(\"Another example: \")\n",
    "arr1=np.random.rand(3,4)\n",
    "print(arr1)"
   ]
  },
  {
   "cell_type": "code",
   "execution_count": 1,
   "id": "5960f69a",
   "metadata": {},
   "outputs": [
    {
     "name": "stdout",
     "output_type": "stream",
     "text": [
      "3\n"
     ]
    }
   ],
   "source": [
    "x = int(input(\"Enter number: \"))\n",
    "i = (x//10) + 1\n",
    "print(i)"
   ]
  }
 ],
 "metadata": {
  "kernelspec": {
   "display_name": "base",
   "language": "python",
   "name": "python3"
  },
  "language_info": {
   "codemirror_mode": {
    "name": "ipython",
    "version": 3
   },
   "file_extension": ".py",
   "mimetype": "text/x-python",
   "name": "python",
   "nbconvert_exporter": "python",
   "pygments_lexer": "ipython3",
   "version": "3.9.12 (main, Apr  4 2022, 05:22:27) [MSC v.1916 64 bit (AMD64)]"
  },
  "vscode": {
   "interpreter": {
    "hash": "00af303cd6eb4db3a82cf409bf5dd5d8f315934e004e8b7515186065b4c3593e"
   }
  }
 },
 "nbformat": 4,
 "nbformat_minor": 5
}
