{
 "cells": [
  {
   "cell_type": "markdown",
   "id": "340cbd84",
   "metadata": {},
   "source": [
    "# Stacking in 1-D array"
   ]
  },
  {
   "cell_type": "code",
   "execution_count": 19,
   "id": "e3dd87da",
   "metadata": {},
   "outputs": [
    {
     "data": {
      "text/plain": [
       "array([ 10,  20,  30,  40,  50,  60,  70,  80,  90, 100])"
      ]
     },
     "execution_count": 19,
     "metadata": {},
     "output_type": "execute_result"
    }
   ],
   "source": [
    "import numpy as np\n",
    "arr1=np.array([10,20,30,40,50])\n",
    "arr2=np.array([60,70,80,90,100])\n",
    "np.hstack((arr1,arr2))      # it will append arr2 ahead of arr1 in horizontal direction"
   ]
  },
  {
   "cell_type": "code",
   "execution_count": 7,
   "id": "ae5daad0",
   "metadata": {},
   "outputs": [
    {
     "data": {
      "text/plain": [
       "array([[ 10,  20,  30,  40,  50],\n",
       "       [ 60,  70,  80,  90, 100]])"
      ]
     },
     "execution_count": 7,
     "metadata": {},
     "output_type": "execute_result"
    }
   ],
   "source": [
    "import numpy as np\n",
    "arr1=np.array([10,20,30,40,50])\n",
    "arr2=np.array([60,70,80,90,100])\n",
    "np.vstack((arr1,arr2))      # it will append arr2 below arr1 in vertical direction"
   ]
  },
  {
   "cell_type": "markdown",
   "id": "e83c1015",
   "metadata": {},
   "source": [
    "# Stacking in 2-D array "
   ]
  },
  {
   "cell_type": "code",
   "execution_count": 17,
   "id": "091ca081",
   "metadata": {},
   "outputs": [
    {
     "data": {
      "text/plain": [
       "array([[12,  7, 18, 77, 30, 38],\n",
       "       [ 3,  4,  4, 59, 99, 25],\n",
       "       [13, 17, 18, 38, 60, 87]])"
      ]
     },
     "execution_count": 17,
     "metadata": {},
     "output_type": "execute_result"
    }
   ],
   "source": [
    "import numpy as np\n",
    "np.random.seed(12)\n",
    "arr1=np.random.randint(1,21,9).reshape(3,3)\n",
    "arr2=np.random.randint(25,100,9).reshape(3,3)\n",
    "np.hstack((arr1,arr2))              # it will append arr2 ahead of arr1 in horizontal direction"
   ]
  },
  {
   "cell_type": "code",
   "execution_count": 18,
   "id": "d0fe533c",
   "metadata": {},
   "outputs": [
    {
     "data": {
      "text/plain": [
       "array([[12,  7, 18],\n",
       "       [ 3,  4,  4],\n",
       "       [13, 17, 18],\n",
       "       [77, 30, 38],\n",
       "       [59, 99, 25],\n",
       "       [38, 60, 87]])"
      ]
     },
     "execution_count": 18,
     "metadata": {},
     "output_type": "execute_result"
    }
   ],
   "source": [
    "import numpy as np\n",
    "np.random.seed(12)\n",
    "arr1=np.random.randint(1,21,9).reshape(3,3)\n",
    "arr2=np.random.randint(25,100,9).reshape(3,3)\n",
    "np.vstack((arr1,arr2))              # it will append arr2 below arr1 in vertical direction"
   ]
  }
 ],
 "metadata": {
  "kernelspec": {
   "display_name": "base",
   "language": "python",
   "name": "python3"
  },
  "language_info": {
   "codemirror_mode": {
    "name": "ipython",
    "version": 3
   },
   "file_extension": ".py",
   "mimetype": "text/x-python",
   "name": "python",
   "nbconvert_exporter": "python",
   "pygments_lexer": "ipython3",
   "version": "3.9.12 (main, Apr  4 2022, 05:22:27) [MSC v.1916 64 bit (AMD64)]"
  },
  "vscode": {
   "interpreter": {
    "hash": "00af303cd6eb4db3a82cf409bf5dd5d8f315934e004e8b7515186065b4c3593e"
   }
  }
 },
 "nbformat": 4,
 "nbformat_minor": 5
}
