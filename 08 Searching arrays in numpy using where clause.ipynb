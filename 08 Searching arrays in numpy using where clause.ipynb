{
 "cells": [
  {
   "cell_type": "code",
   "execution_count": 13,
   "id": "c4e5e09e",
   "metadata": {},
   "outputs": [
    {
     "data": {
      "text/plain": [
       "(array([6], dtype=int64),)"
      ]
     },
     "execution_count": 13,
     "metadata": {},
     "output_type": "execute_result"
    }
   ],
   "source": [
    "import numpy as np\n",
    "arr=np.arange(51,61)\n",
    "x=np.where(arr==57)               # it returns index of condition\n",
    "x"
   ]
  },
  {
   "cell_type": "code",
   "execution_count": 5,
   "id": "caec6708",
   "metadata": {},
   "outputs": [
    {
     "data": {
      "text/plain": [
       "(array([0, 0, 1, 1, 1, 2, 2, 3, 3, 3, 4, 4], dtype=int64),\n",
       " array([1, 3, 0, 2, 4, 1, 3, 0, 2, 4, 1, 3], dtype=int64))"
      ]
     },
     "execution_count": 5,
     "metadata": {},
     "output_type": "execute_result"
    }
   ],
   "source": [
    "import numpy as np\n",
    "arr=np.arange(1,26).reshape(5,5)\n",
    "x=np.where(arr%2==0)              # it returns index of condition\n",
    "x                         "
   ]
  },
  {
   "cell_type": "markdown",
   "id": "5f2af428",
   "metadata": {},
   "source": [
    "### In result 1st row denotes indexes of rows and 2nd row denotes indexes of columns"
   ]
  },
  {
   "cell_type": "code",
   "execution_count": 11,
   "id": "74d18433",
   "metadata": {},
   "outputs": [
    {
     "name": "stdout",
     "output_type": "stream",
     "text": [
      "odd\n",
      "Even\n",
      "odd\n",
      "Even\n",
      "odd\n",
      "Even\n",
      "odd\n",
      "Even\n",
      "odd\n"
     ]
    }
   ],
   "source": [
    "import numpy as np\n",
    "arr=np.arange(1,10).reshape(3,3)\n",
    "count=0\n",
    "for i in range (0,3):\n",
    "    for j in range (0,3):\n",
    "        if arr[i][j]%2==0:\n",
    "            print(\"Even\")\n",
    "        else:\n",
    "            print(\"odd\")\n",
    "    "
   ]
  }
 ],
 "metadata": {
  "kernelspec": {
   "display_name": "Python 3 (ipykernel)",
   "language": "python",
   "name": "python3"
  },
  "language_info": {
   "codemirror_mode": {
    "name": "ipython",
    "version": 3
   },
   "file_extension": ".py",
   "mimetype": "text/x-python",
   "name": "python",
   "nbconvert_exporter": "python",
   "pygments_lexer": "ipython3",
   "version": "3.9.12"
  }
 },
 "nbformat": 4,
 "nbformat_minor": 5
}
