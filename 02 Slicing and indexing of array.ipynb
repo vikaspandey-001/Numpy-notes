{
 "cells": [
  {
   "cell_type": "markdown",
   "id": "0df74a1d",
   "metadata": {},
   "source": [
    "# Slicing of 1D Array "
   ]
  },
  {
   "cell_type": "markdown",
   "id": "dc7f9c56",
   "metadata": {},
   "source": [
    "Slicing in python means taking elements from one given index to another given index.\n",
    "\n",
    "We pass slice instead of index like this: [start:end].\n",
    "\n",
    "We can also define the step, like this: [start:end:step].\n",
    "\n",
    "If we don't pass start its considered 0\n",
    "\n",
    "If we don't pass end its considered length of array in that dimension\n",
    "\n",
    "If we don't pass step its considered 1"
   ]
  },
  {
   "cell_type": "code",
   "execution_count": 3,
   "id": "ffe42de1",
   "metadata": {},
   "outputs": [
    {
     "name": "stdout",
     "output_type": "stream",
     "text": [
      "Enter number of element you want: 6\n",
      "Enter Values: 10\n",
      "Enter Values: 20\n",
      "Enter Values: 30\n",
      "Enter Values: 40\n",
      "Enter Values: 50\n",
      "Enter Values: 60\n",
      "[10 20 30 40 50 60]\n",
      "Entered elements are: \n",
      "10\n",
      "20\n",
      "30\n",
      "40\n",
      "50\n",
      "60\n",
      "Sum of elements is:  210\n",
      "Element having indexing 2 to 5 are: \n",
      "[30 40 50 60]\n"
     ]
    }
   ],
   "source": [
    "import numpy as np\n",
    "a=[]\n",
    "size=int(input(\"Enter number of element you want: \"))\n",
    "for i in range (size):\n",
    "    val=int(input(\"Enter Values: \"))\n",
    "    a.append(val)\n",
    "arr=np.array(a)\n",
    "print(arr)\n",
    "print (\"Entered elements are: \")\n",
    "for i in range (arr.size):\n",
    "    print(arr[i])\n",
    "#for sum of elememts \n",
    "sum=0\n",
    "for i in range (arr.size):\n",
    "    sum=sum+arr[i]\n",
    "print(\"Sum of elements is: \",sum)\n",
    "\n",
    "#SLicing of 1D aarray :\n",
    "print(\"Element having indexing 2 to 5 are: \")\n",
    "arr1=arr[2:6]\n",
    "print(arr1) "
   ]
  },
  {
   "cell_type": "markdown",
   "id": "57844a57",
   "metadata": {},
   "source": [
    "# Slicing in 2D Array"
   ]
  },
  {
   "cell_type": "markdown",
   "id": "5d1ee5e5",
   "metadata": {},
   "source": [
    "Slicing in python means taking elements from one given index to another given index.\n",
    "\n",
    "We pass slice instead of index like this: [start:end].\n",
    "\n",
    "We can also define the step, like this: [start:end:step].\n",
    "\n",
    "If we don't pass start its considered 0\n",
    "\n",
    "If we don't pass end its considered length of array in that dimension\n",
    "\n",
    "If we don't pass step its considered 1"
   ]
  },
  {
   "cell_type": "code",
   "execution_count": 11,
   "id": "f31e3f86",
   "metadata": {},
   "outputs": [
    {
     "name": "stdout",
     "output_type": "stream",
     "text": [
      "The required array is: \n",
      "[[ 1  2  3  4  5]\n",
      " [ 6  7  8  9 10]\n",
      " [11 12 13 14 15]\n",
      " [16 17 18 19 20]\n",
      " [21 22 23 24 25]]\n"
     ]
    },
    {
     "data": {
      "text/plain": [
       "array([13, 14, 15])"
      ]
     },
     "execution_count": 11,
     "metadata": {},
     "output_type": "execute_result"
    }
   ],
   "source": [
    "import numpy as np\n",
    "arr=np.arange(1,26).reshape(5,5)\n",
    "print(\"The required array is: \")\n",
    "print(arr)\n",
    "arr[2,2:5]\n"
   ]
  },
  {
   "cell_type": "code",
   "execution_count": 12,
   "id": "2185b93e",
   "metadata": {},
   "outputs": [
    {
     "name": "stdout",
     "output_type": "stream",
     "text": [
      "The required array is: \n",
      "[[ 1  2  3  4  5]\n",
      " [ 6  7  8  9 10]\n",
      " [11 12 13 14 15]\n",
      " [16 17 18 19 20]\n",
      " [21 22 23 24 25]]\n"
     ]
    },
    {
     "data": {
      "text/plain": [
       "array([[ 3,  4,  5],\n",
       "       [ 8,  9, 10]])"
      ]
     },
     "execution_count": 12,
     "metadata": {},
     "output_type": "execute_result"
    }
   ],
   "source": [
    "import numpy as np\n",
    "arr=np.arange(1,26).reshape(5,5)\n",
    "print(\"The required array is: \")\n",
    "print(arr)\n",
    "arr[:2,2:5]"
   ]
  },
  {
   "cell_type": "code",
   "execution_count": 13,
   "id": "ecb94e58",
   "metadata": {},
   "outputs": [
    {
     "name": "stdout",
     "output_type": "stream",
     "text": [
      "The required array is: \n",
      "[[ 1  2  3  4  5]\n",
      " [ 6  7  8  9 10]\n",
      " [11 12 13 14 15]\n",
      " [16 17 18 19 20]\n",
      " [21 22 23 24 25]]\n"
     ]
    },
    {
     "data": {
      "text/plain": [
       "array([[13, 14, 15],\n",
       "       [18, 19, 20],\n",
       "       [23, 24, 25]])"
      ]
     },
     "execution_count": 13,
     "metadata": {},
     "output_type": "execute_result"
    }
   ],
   "source": [
    "import numpy as np\n",
    "arr=np.arange(1,26).reshape(5,5)\n",
    "print(\"The required array is: \")\n",
    "print(arr)\n",
    "arr[2:,2:5]"
   ]
  },
  {
   "cell_type": "code",
   "execution_count": 14,
   "id": "3fd57cf4",
   "metadata": {},
   "outputs": [
    {
     "name": "stdout",
     "output_type": "stream",
     "text": [
      "The required array is: \n",
      "[[ 1  2  3  4  5]\n",
      " [ 6  7  8  9 10]\n",
      " [11 12 13 14 15]\n",
      " [16 17 18 19 20]\n",
      " [21 22 23 24 25]]\n"
     ]
    },
    {
     "data": {
      "text/plain": [
       "array([13, 18, 23])"
      ]
     },
     "execution_count": 14,
     "metadata": {},
     "output_type": "execute_result"
    }
   ],
   "source": [
    "import numpy as np\n",
    "arr=np.arange(1,26).reshape(5,5)\n",
    "print(\"The required array is: \")\n",
    "print(arr)\n",
    "arr[2:5,2]"
   ]
  },
  {
   "cell_type": "code",
   "execution_count": 15,
   "id": "58ca12c7",
   "metadata": {},
   "outputs": [
    {
     "name": "stdout",
     "output_type": "stream",
     "text": [
      "The required array is: \n",
      "[[ 1  2  3  4  5]\n",
      " [ 6  7  8  9 10]\n",
      " [11 12 13 14 15]\n",
      " [16 17 18 19 20]\n",
      " [21 22 23 24 25]]\n"
     ]
    },
    {
     "data": {
      "text/plain": [
       "array([[13, 14, 15],\n",
       "       [18, 19, 20],\n",
       "       [23, 24, 25]])"
      ]
     },
     "execution_count": 15,
     "metadata": {},
     "output_type": "execute_result"
    }
   ],
   "source": [
    "import numpy as np\n",
    "arr=np.arange(1,26).reshape(5,5)\n",
    "print(\"The required array is: \")\n",
    "print(arr)\n",
    "arr[2:5,2:]"
   ]
  },
  {
   "cell_type": "code",
   "execution_count": 16,
   "id": "bf7bf25d",
   "metadata": {},
   "outputs": [
    {
     "name": "stdout",
     "output_type": "stream",
     "text": [
      "The required array is: \n",
      "[[ 1  2  3  4  5]\n",
      " [ 6  7  8  9 10]\n",
      " [11 12 13 14 15]\n",
      " [16 17 18 19 20]\n",
      " [21 22 23 24 25]]\n"
     ]
    },
    {
     "data": {
      "text/plain": [
       "array([[11, 12, 13, 14, 15],\n",
       "       [16, 17, 18, 19, 20],\n",
       "       [21, 22, 23, 24, 25]])"
      ]
     },
     "execution_count": 16,
     "metadata": {},
     "output_type": "execute_result"
    }
   ],
   "source": [
    "import numpy as np\n",
    "arr=np.arange(1,26).reshape(5,5)\n",
    "print(\"The required array is: \")\n",
    "print(arr)\n",
    "arr[2:5,:5]"
   ]
  },
  {
   "cell_type": "code",
   "execution_count": 17,
   "id": "c72e64fb",
   "metadata": {},
   "outputs": [
    {
     "name": "stdout",
     "output_type": "stream",
     "text": [
      "The required array is: \n",
      "[[ 1  2  3  4  5]\n",
      " [ 6  7  8  9 10]\n",
      " [11 12 13 14 15]\n",
      " [16 17 18 19 20]\n",
      " [21 22 23 24 25]]\n"
     ]
    },
    {
     "data": {
      "text/plain": [
       "array([[11, 13, 15],\n",
       "       [21, 23, 25]])"
      ]
     },
     "execution_count": 17,
     "metadata": {},
     "output_type": "execute_result"
    }
   ],
   "source": [
    "import numpy as np\n",
    "arr=np.arange(1,26).reshape(5,5)\n",
    "print(\"The required array is: \")\n",
    "print(arr)\n",
    "arr[2:5:2,:5:2]"
   ]
  }
 ],
 "metadata": {
  "kernelspec": {
   "display_name": "Python 3 (ipykernel)",
   "language": "python",
   "name": "python3"
  },
  "language_info": {
   "codemirror_mode": {
    "name": "ipython",
    "version": 3
   },
   "file_extension": ".py",
   "mimetype": "text/x-python",
   "name": "python",
   "nbconvert_exporter": "python",
   "pygments_lexer": "ipython3",
   "version": "3.9.12 (main, Apr  4 2022, 05:22:27) [MSC v.1916 64 bit (AMD64)]"
  },
  "vscode": {
   "interpreter": {
    "hash": "00af303cd6eb4db3a82cf409bf5dd5d8f315934e004e8b7515186065b4c3593e"
   }
  }
 },
 "nbformat": 4,
 "nbformat_minor": 5
}
