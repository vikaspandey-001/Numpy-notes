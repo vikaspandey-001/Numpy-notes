{
 "cells": [
  {
   "cell_type": "code",
   "execution_count": 1,
   "id": "179a106b",
   "metadata": {},
   "outputs": [
    {
     "data": {
      "text/plain": [
       "0"
      ]
     },
     "execution_count": 1,
     "metadata": {},
     "output_type": "execute_result"
    }
   ],
   "source": [
    "import numpy as np\n",
    "arr=np.arange(0,15)\n",
    "min(arr)"
   ]
  },
  {
   "cell_type": "code",
   "execution_count": 2,
   "id": "962a7a6c",
   "metadata": {},
   "outputs": [
    {
     "data": {
      "text/plain": [
       "14"
      ]
     },
     "execution_count": 2,
     "metadata": {},
     "output_type": "execute_result"
    }
   ],
   "source": [
    "import numpy as np\n",
    "arr=np.arange(0,15)\n",
    "max(arr)"
   ]
  },
  {
   "cell_type": "code",
   "execution_count": 6,
   "id": "880cd64f",
   "metadata": {},
   "outputs": [
    {
     "data": {
      "text/plain": [
       "2"
      ]
     },
     "execution_count": 6,
     "metadata": {},
     "output_type": "execute_result"
    }
   ],
   "source": [
    "import numpy as np\n",
    "arr=np.array([50,75,10,60,55,90,36,64,25])\n",
    "np.argmin(arr)      #returns index of minimum element"
   ]
  },
  {
   "cell_type": "code",
   "execution_count": 7,
   "id": "60f63f13",
   "metadata": {},
   "outputs": [
    {
     "data": {
      "text/plain": [
       "5"
      ]
     },
     "execution_count": 7,
     "metadata": {},
     "output_type": "execute_result"
    }
   ],
   "source": [
    "import numpy as np\n",
    "arr=np.array([50,75,10,60,55,90,36,64,25])\n",
    "np.argmax(arr)      #returns index of maximum element"
   ]
  },
  {
   "cell_type": "code",
   "execution_count": 9,
   "id": "c28438c7",
   "metadata": {},
   "outputs": [
    {
     "data": {
      "text/plain": [
       "array([7.07106781, 8.66025404, 3.16227766, 7.74596669, 7.41619849,\n",
       "       9.48683298, 6.        , 8.        , 5.        ])"
      ]
     },
     "execution_count": 9,
     "metadata": {},
     "output_type": "execute_result"
    }
   ],
   "source": [
    "import numpy as np\n",
    "arr=np.array([50,75,10,60,55,90,36,64,25])\n",
    "np.sqrt(arr)"
   ]
  },
  {
   "cell_type": "code",
   "execution_count": 10,
   "id": "e85c4a14",
   "metadata": {},
   "outputs": [
    {
     "data": {
      "text/plain": [
       "array([-0.26237485, -0.38778164, -0.54402111, -0.30481062, -0.99975517,\n",
       "        0.89399666, -0.99177885,  0.92002604, -0.13235175])"
      ]
     },
     "execution_count": 10,
     "metadata": {},
     "output_type": "execute_result"
    }
   ],
   "source": [
    "import numpy as np\n",
    "arr=np.array([50,75,10,60,55,90,36,64,25])\n",
    "np.sin(arr)           #returns sine value of all elements"
   ]
  },
  {
   "cell_type": "code",
   "execution_count": 11,
   "id": "12d6f9c6",
   "metadata": {},
   "outputs": [
    {
     "data": {
      "text/plain": [
       "array([ 0.96496603,  0.92175127, -0.83907153, -0.95241298,  0.02212676,\n",
       "       -0.44807362, -0.12796369,  0.39185723,  0.99120281])"
      ]
     },
     "execution_count": 11,
     "metadata": {},
     "output_type": "execute_result"
    }
   ],
   "source": [
    "import numpy as np\n",
    "arr=np.array([50,75,10,60,55,90,36,64,25])\n",
    "np.cos(arr)           #returns cosign value of all elements"
   ]
  },
  {
   "cell_type": "code",
   "execution_count": 12,
   "id": "8f18987f",
   "metadata": {},
   "outputs": [
    {
     "data": {
      "text/plain": [
       "array([ -0.27190061,  -0.42070095,   0.64836083,   0.32004039,\n",
       "       -45.18308791,  -1.99520041,   7.75047091,   2.34786031,\n",
       "        -0.13352641])"
      ]
     },
     "execution_count": 12,
     "metadata": {},
     "output_type": "execute_result"
    }
   ],
   "source": [
    "import numpy as np\n",
    "arr=np.array([50,75,10,60,55,90,36,64,25])\n",
    "np.tan(arr)           #returns tangent value of all elements"
   ]
  },
  {
   "cell_type": "code",
   "execution_count": 15,
   "id": "4fd6fec8",
   "metadata": {},
   "outputs": [
    {
     "ename": "AttributeError",
     "evalue": "module 'numpy' has no attribute 'cosec'",
     "output_type": "error",
     "traceback": [
      "\u001b[1;31m---------------------------------------------------------------------------\u001b[0m",
      "\u001b[1;31mAttributeError\u001b[0m                            Traceback (most recent call last)",
      "Input \u001b[1;32mIn [15]\u001b[0m, in \u001b[0;36m<cell line: 3>\u001b[1;34m()\u001b[0m\n\u001b[0;32m      1\u001b[0m \u001b[38;5;28;01mimport\u001b[39;00m \u001b[38;5;21;01mnumpy\u001b[39;00m \u001b[38;5;28;01mas\u001b[39;00m \u001b[38;5;21;01mnp\u001b[39;00m\n\u001b[0;32m      2\u001b[0m arr\u001b[38;5;241m=\u001b[39mnp\u001b[38;5;241m.\u001b[39marray([\u001b[38;5;241m50\u001b[39m,\u001b[38;5;241m75\u001b[39m,\u001b[38;5;241m10\u001b[39m,\u001b[38;5;241m60\u001b[39m,\u001b[38;5;241m55\u001b[39m,\u001b[38;5;241m90\u001b[39m,\u001b[38;5;241m36\u001b[39m,\u001b[38;5;241m64\u001b[39m,\u001b[38;5;241m25\u001b[39m])\n\u001b[1;32m----> 3\u001b[0m \u001b[43mnp\u001b[49m\u001b[38;5;241;43m.\u001b[39;49m\u001b[43mcosec\u001b[49m(arr)\n",
      "File \u001b[1;32m~\\anaconda3\\lib\\site-packages\\numpy\\__init__.py:313\u001b[0m, in \u001b[0;36m__getattr__\u001b[1;34m(attr)\u001b[0m\n\u001b[0;32m    310\u001b[0m     \u001b[38;5;28;01mfrom\u001b[39;00m \u001b[38;5;21;01m.\u001b[39;00m\u001b[38;5;21;01mtesting\u001b[39;00m \u001b[38;5;28;01mimport\u001b[39;00m Tester\n\u001b[0;32m    311\u001b[0m     \u001b[38;5;28;01mreturn\u001b[39;00m Tester\n\u001b[1;32m--> 313\u001b[0m \u001b[38;5;28;01mraise\u001b[39;00m \u001b[38;5;167;01mAttributeError\u001b[39;00m(\u001b[38;5;124m\"\u001b[39m\u001b[38;5;124mmodule \u001b[39m\u001b[38;5;132;01m{!r}\u001b[39;00m\u001b[38;5;124m has no attribute \u001b[39m\u001b[38;5;124m\"\u001b[39m\n\u001b[0;32m    314\u001b[0m                      \u001b[38;5;124m\"\u001b[39m\u001b[38;5;132;01m{!r}\u001b[39;00m\u001b[38;5;124m\"\u001b[39m\u001b[38;5;241m.\u001b[39mformat(\u001b[38;5;18m__name__\u001b[39m, attr))\n",
      "\u001b[1;31mAttributeError\u001b[0m: module 'numpy' has no attribute 'cosec'"
     ]
    }
   ],
   "source": [
    "import numpy as np\n",
    "arr=np.array([50,75,10,60,55,90,36,64,25])\n",
    "np.cosec(arr)           \n",
    "#this error occurs bec it is only defined for sin, cos and tan"
   ]
  },
  {
   "cell_type": "code",
   "execution_count": 17,
   "id": "0f087f2c",
   "metadata": {},
   "outputs": [
    {
     "data": {
      "text/plain": [
       "array([ 1. ,  2.8,  4.6,  6.4,  8.2, 10. ])"
      ]
     },
     "execution_count": 17,
     "metadata": {},
     "output_type": "execute_result"
    }
   ],
   "source": [
    "import numpy as np\n",
    "np.linspace(1,10,6)       #it will return 6 equal values between 1 to 10"
   ]
  },
  {
   "cell_type": "code",
   "execution_count": 4,
   "id": "1917f413",
   "metadata": {},
   "outputs": [
    {
     "name": "stdout",
     "output_type": "stream",
     "text": [
      "Original array: \n",
      "[[16 11 13]\n",
      " [17 13 16]\n",
      " [ 3 16 11]]\n",
      "Sum of all elements of arary\n",
      "116\n"
     ]
    }
   ],
   "source": [
    "import numpy as np \n",
    "np.random.seed(122)\n",
    "arr=np.random.randint(1,21,9).reshape(3,3)\n",
    "print(\"Original array: \")\n",
    "print(arr)\n",
    "print(\"Sum of all elements of arary\")\n",
    "print(np.sum(arr))       #or it can also be written as arr.sum()\n",
    "   "
   ]
  },
  {
   "cell_type": "code",
   "execution_count": 5,
   "id": "84ebee82",
   "metadata": {},
   "outputs": [
    {
     "name": "stdout",
     "output_type": "stream",
     "text": [
      "Original array: \n",
      "[[16 11 13]\n",
      " [17 13 16]\n",
      " [ 3 16 11]]\n",
      "Min. of all elements of arary\n",
      "3\n"
     ]
    }
   ],
   "source": [
    "import numpy as np \n",
    "np.random.seed(122)\n",
    "arr=np.random.randint(1,21,9).reshape(3,3)\n",
    "print(\"Original array: \")\n",
    "print(arr)\n",
    "print(\"Min. of all elements of arary\")\n",
    "print(np.min(arr))"
   ]
  },
  {
   "cell_type": "code",
   "execution_count": 7,
   "id": "110f460b",
   "metadata": {},
   "outputs": [
    {
     "name": "stdout",
     "output_type": "stream",
     "text": [
      "Original array: \n",
      "[[16 11 13]\n",
      " [17 13 16]\n",
      " [ 3 16 11]]\n",
      "Max. of all elements of arary\n",
      "17\n"
     ]
    }
   ],
   "source": [
    "import numpy as np \n",
    "np.random.seed(122)\n",
    "arr=np.random.randint(1,21,9).reshape(3,3)\n",
    "print(\"Original array: \")\n",
    "print(arr)\n",
    "print(\"Max. of all elements of arary\")\n",
    "print(np.max(arr))"
   ]
  },
  {
   "cell_type": "code",
   "execution_count": 13,
   "id": "5968eae7",
   "metadata": {},
   "outputs": [
    {
     "name": "stdout",
     "output_type": "stream",
     "text": [
      "Original array: \n",
      "[[16 11 13]\n",
      " [17 13 16]\n",
      " [ 3 16 11]]\n",
      "Row wise Min. of all elements of arary\n",
      "[11 13  3]\n"
     ]
    }
   ],
   "source": [
    "import numpy as np \n",
    "np.random.seed(122)\n",
    "arr=np.random.randint(1,21,9).reshape(3,3)\n",
    "print(\"Original array: \")\n",
    "print(arr)\n",
    "print(\"Row wise Min. of all elements of arary\")\n",
    "print(np.min(arr,axis=1))         #for row wise minimum"
   ]
  },
  {
   "cell_type": "code",
   "execution_count": 11,
   "id": "e64d0c66",
   "metadata": {},
   "outputs": [
    {
     "name": "stdout",
     "output_type": "stream",
     "text": [
      "Original array: \n",
      "[[16 11 13]\n",
      " [17 13 16]\n",
      " [ 3 16 11]]\n",
      "Row wise Max. of all elements of arary\n",
      "[16 17 16]\n"
     ]
    }
   ],
   "source": [
    "import numpy as np \n",
    "np.random.seed(122)\n",
    "arr=np.random.randint(1,21,9).reshape(3,3)\n",
    "print(\"Original array: \")\n",
    "print(arr)\n",
    "print(\"Row wise Max. of all elements of arary\")\n",
    "print(np.max(arr,axis=1))         #for row wise maximum"
   ]
  },
  {
   "cell_type": "code",
   "execution_count": 12,
   "id": "54d4fad1",
   "metadata": {},
   "outputs": [
    {
     "name": "stdout",
     "output_type": "stream",
     "text": [
      "Original array: \n",
      "[[16 11 13]\n",
      " [17 13 16]\n",
      " [ 3 16 11]]\n",
      "Column wise Min. of all elements of arary\n",
      "[ 3 11 11]\n"
     ]
    }
   ],
   "source": [
    "import numpy as np \n",
    "np.random.seed(122)\n",
    "arr=np.random.randint(1,21,9).reshape(3,3)\n",
    "print(\"Original array: \")\n",
    "print(arr)\n",
    "print(\"Column wise Min. of all elements of arary\")\n",
    "print(np.min(arr,axis=0))         #for column wise minimum"
   ]
  },
  {
   "cell_type": "code",
   "execution_count": 14,
   "id": "cc1fe7af",
   "metadata": {},
   "outputs": [
    {
     "name": "stdout",
     "output_type": "stream",
     "text": [
      "Original array: \n",
      "[[16 11 13]\n",
      " [17 13 16]\n",
      " [ 3 16 11]]\n",
      "Column wise Max. of all elements of arary\n",
      "[17 16 16]\n"
     ]
    }
   ],
   "source": [
    "import numpy as np \n",
    "np.random.seed(122)\n",
    "arr=np.random.randint(1,21,9).reshape(3,3)\n",
    "print(\"Original array: \")\n",
    "print(arr)\n",
    "print(\"Column wise Max. of all elements of arary\")\n",
    "print(np.max(arr,axis=0))         #for column wise maximum"
   ]
  },
  {
   "cell_type": "code",
   "execution_count": 15,
   "id": "63c9c21f",
   "metadata": {},
   "outputs": [
    {
     "name": "stdout",
     "output_type": "stream",
     "text": [
      "Original array: \n",
      "[[16 11 13]\n",
      " [17 13 16]\n",
      " [ 3 16 11]]\n",
      "Row wise sum of all elements of arary\n",
      "[40 46 30]\n"
     ]
    }
   ],
   "source": [
    "import numpy as np \n",
    "np.random.seed(122)\n",
    "arr=np.random.randint(1,21,9).reshape(3,3)\n",
    "print(\"Original array: \")\n",
    "print(arr)\n",
    "print(\"Row wise sum of all elements of arary\")\n",
    "print(np.sum(arr,axis=1))         #for row wise sum"
   ]
  },
  {
   "cell_type": "code",
   "execution_count": 17,
   "id": "c2b3e960",
   "metadata": {},
   "outputs": [
    {
     "name": "stdout",
     "output_type": "stream",
     "text": [
      "Original array: \n",
      "[[16 11 13]\n",
      " [17 13 16]\n",
      " [ 3 16 11]]\n",
      "Column wise sum of all elements of arary\n",
      "[36 40 40]\n"
     ]
    }
   ],
   "source": [
    "import numpy as np \n",
    "np.random.seed(122)\n",
    "arr=np.random.randint(1,21,9).reshape(3,3)\n",
    "print(\"Original array: \")\n",
    "print(arr)\n",
    "print(\"Column wise sum of all elements of arary\")\n",
    "print(np.sum(arr,axis=0))         #for column wise sum"
   ]
  },
  {
   "cell_type": "code",
   "execution_count": 18,
   "id": "67be9c46",
   "metadata": {},
   "outputs": [
    {
     "name": "stdout",
     "output_type": "stream",
     "text": [
      "[[16 11 13]\n",
      " [17 13 16]\n",
      " [ 3 16 11]]\n"
     ]
    },
    {
     "data": {
      "text/plain": [
       "array([ 16,  27,  40,  57,  70,  86,  89, 105, 116], dtype=int32)"
      ]
     },
     "execution_count": 18,
     "metadata": {},
     "output_type": "execute_result"
    }
   ],
   "source": [
    "import numpy as np \n",
    "np.random.seed(122)\n",
    "arr=np.random.randint(1,21,9).reshape(3,3)\n",
    "print(arr)\n",
    "np.cumsum(arr)        #cumulative sum: example; [1 2 3 4] =[1 3 6 10]"
   ]
  },
  {
   "cell_type": "code",
   "execution_count": 20,
   "id": "18ec0d35",
   "metadata": {},
   "outputs": [
    {
     "name": "stdout",
     "output_type": "stream",
     "text": [
      "[[16 11 13]\n",
      " [17 13 16]\n",
      " [ 3 16 11]]\n"
     ]
    },
    {
     "data": {
      "text/plain": [
       "array([[16, 27, 40],\n",
       "       [17, 30, 46],\n",
       "       [ 3, 19, 30]], dtype=int32)"
      ]
     },
     "execution_count": 20,
     "metadata": {},
     "output_type": "execute_result"
    }
   ],
   "source": [
    "import numpy as np \n",
    "np.random.seed(122)\n",
    "arr=np.random.randint(1,21,9).reshape(3,3)\n",
    "print(arr)\n",
    "np.cumsum(arr,axis=1)        #cumulative sum: example; [1 2 3 4] =[1 3 6 10] # here it does row wise sum"
   ]
  },
  {
   "cell_type": "code",
   "execution_count": 21,
   "id": "eb8367e8",
   "metadata": {},
   "outputs": [
    {
     "name": "stdout",
     "output_type": "stream",
     "text": [
      "[[16 11 13]\n",
      " [17 13 16]\n",
      " [ 3 16 11]]\n"
     ]
    },
    {
     "data": {
      "text/plain": [
       "array([[16, 11, 13],\n",
       "       [33, 24, 29],\n",
       "       [36, 40, 40]], dtype=int32)"
      ]
     },
     "execution_count": 21,
     "metadata": {},
     "output_type": "execute_result"
    }
   ],
   "source": [
    "import numpy as np \n",
    "np.random.seed(122)\n",
    "arr=np.random.randint(1,21,9).reshape(3,3)\n",
    "print(arr)\n",
    "np.cumsum(arr,axis=0)        #cumulative sum: example; [1 2 3 4] =[1 3 6 10] # here it does column wise sum"
   ]
  },
  {
   "cell_type": "code",
   "execution_count": 24,
   "id": "ea5526b8",
   "metadata": {},
   "outputs": [
    {
     "data": {
      "text/plain": [
       "array([10, 60, 20, 55, 30, 90, 20, 55, 10, 85, 10, 25, 50])"
      ]
     },
     "execution_count": 24,
     "metadata": {},
     "output_type": "execute_result"
    }
   ],
   "source": [
    "import numpy as np\n",
    "arr=np.array([10,50,20,10,60,55,10,30,20,90,85,25,55])\n",
    "print(np.random.shuffle(arr))     # it will randomly shuffles the elements "
   ]
  },
  {
   "cell_type": "code",
   "execution_count": 26,
   "id": "d3cc81f3",
   "metadata": {},
   "outputs": [
    {
     "name": "stdout",
     "output_type": "stream",
     "text": [
      "[10 20 25 30 50 55 60 85 90]\n"
     ]
    }
   ],
   "source": [
    "import numpy as np\n",
    "arr=np.array([10,50,20,10,60,55,10,30,20,90,85,25,55])\n",
    "print(np.unique(arr))               '''it will discard repeated elements and displays unique elements and\n",
    "                                       also arranges it in increasing order'''"
   ]
  },
  {
   "cell_type": "code",
   "execution_count": 29,
   "id": "d836e980",
   "metadata": {},
   "outputs": [
    {
     "name": "stdout",
     "output_type": "stream",
     "text": [
      "9\n"
     ]
    }
   ],
   "source": [
    "import numpy as np\n",
    "arr=np.array([10,50,20,10,60,55,10,30,20,90,85,25,55])\n",
    "print(np.unique(arr).size)            # count the unique counts of element or length of np.unique(arr)"
   ]
  },
  {
   "cell_type": "code",
   "execution_count": 36,
   "id": "246fd121",
   "metadata": {},
   "outputs": [
    {
     "name": "stdout",
     "output_type": "stream",
     "text": [
      "(array([10, 20, 25, 30, 50, 55, 60, 85, 90]), array([ 0,  2, 11,  7,  1,  5,  4, 10,  9], dtype=int64), array([3, 2, 1, 1, 1, 2, 1, 1, 1], dtype=int64))\n"
     ]
    },
    {
     "data": {
      "text/plain": [
       "'it will discard repeated elements and displays unique elements and \\nalso arranges it in increasing order\\nthen return index of that element from original array.\\nand then returns frequency of that element (that how many times it repeated)'"
      ]
     },
     "execution_count": 36,
     "metadata": {},
     "output_type": "execute_result"
    }
   ],
   "source": [
    "import numpy as np\n",
    "arr=np.array([10,50,20,10,60,55,10,30,20,90,85,25,55])\n",
    "print(np.unique(arr,return_index=True,return_counts=True))       \n",
    "'''it will discard repeated elements and displays unique elements and \n",
    "also arranges it in increasing order\n",
    "then return index of that element from original array.\n",
    "and then returns frequency of that element (that how many times it repeated)'''"
   ]
  },
  {
   "cell_type": "code",
   "execution_count": null,
   "id": "e7ec626c",
   "metadata": {},
   "outputs": [],
   "source": []
  }
 ],
 "metadata": {
  "kernelspec": {
   "display_name": "Python 3 (ipykernel)",
   "language": "python",
   "name": "python3"
  },
  "language_info": {
   "codemirror_mode": {
    "name": "ipython",
    "version": 3
   },
   "file_extension": ".py",
   "mimetype": "text/x-python",
   "name": "python",
   "nbconvert_exporter": "python",
   "pygments_lexer": "ipython3",
   "version": "3.9.12"
  }
 },
 "nbformat": 4,
 "nbformat_minor": 5
}
