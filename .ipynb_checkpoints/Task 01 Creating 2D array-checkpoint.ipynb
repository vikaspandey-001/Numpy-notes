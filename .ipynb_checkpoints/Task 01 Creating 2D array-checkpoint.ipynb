{
 "cells": [
  {
   "cell_type": "code",
   "execution_count": 1,
   "id": "69654177",
   "metadata": {},
   "outputs": [
    {
     "name": "stdout",
     "output_type": "stream",
     "text": [
      "Enter number of rows: 3\n",
      "Enter number of collumns: 4\n",
      "Enter values: 1\n",
      "Enter values: 0\n",
      "Enter values: 1\n",
      "Enter values: 0\n",
      "Enter values: 1\n",
      "Enter values: 0\n",
      "Enter values: 1\n",
      "Enter values: 0\n",
      "Enter values: 1\n",
      "Enter values: 0\n",
      "Enter values: 1\n",
      "Enter values: 0\n",
      "Entered value:  [1, 0, 1, 0, 1, 0, 1, 0, 1, 0, 1, 0]\n",
      "Entered value in array:  [1 0 1 0 1 0 1 0 1 0 1 0]\n",
      "Shape of array:  (12,)\n",
      "Array after reshaping in 2D: \n",
      "[[1 0 1]\n",
      " [0 1 0]\n",
      " [1 0 1]\n",
      " [0 1 0]]\n"
     ]
    }
   ],
   "source": [
    "import numpy as np\n",
    "r=int(input(\"Enter number of rows: \"))\n",
    "c=int(input(\"Enter number of collumns: \"))\n",
    "matrix=[]\n",
    "for i in range (r):\n",
    "    for j in range (c):\n",
    "        val=int(input(\"Enter values: \"))\n",
    "        matrix.append(val)\n",
    "marr=np.array(matrix)\n",
    "print(\"Entered value: \",matrix)\n",
    "print(\"Entered value in array: \",marr)\n",
    "print(\"Shape of array: \",np.shape(marr))\n",
    "print(\"Array after reshaping in 2D: \")\n",
    "print(np.reshape(marr,(c,r)))"
   ]
  },
  {
   "cell_type": "code",
   "execution_count": null,
   "id": "42730b83",
   "metadata": {},
   "outputs": [],
   "source": []
  }
 ],
 "metadata": {
  "kernelspec": {
   "display_name": "Python 3 (ipykernel)",
   "language": "python",
   "name": "python3"
  },
  "language_info": {
   "codemirror_mode": {
    "name": "ipython",
    "version": 3
   },
   "file_extension": ".py",
   "mimetype": "text/x-python",
   "name": "python",
   "nbconvert_exporter": "python",
   "pygments_lexer": "ipython3",
   "version": "3.9.12"
  }
 },
 "nbformat": 4,
 "nbformat_minor": 5
}
