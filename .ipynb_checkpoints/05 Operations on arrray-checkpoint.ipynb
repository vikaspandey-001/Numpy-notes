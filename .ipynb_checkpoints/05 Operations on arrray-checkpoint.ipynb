{
 "cells": [
  {
   "cell_type": "code",
   "execution_count": 4,
   "id": "f7afe147",
   "metadata": {},
   "outputs": [
    {
     "data": {
      "text/plain": [
       "array([[ 3,  4,  5,  6,  7],\n",
       "       [ 8,  9, 10, 11, 12],\n",
       "       [13, 14, 15, 16, 17]])"
      ]
     },
     "execution_count": 4,
     "metadata": {},
     "output_type": "execute_result"
    }
   ],
   "source": [
    "import numpy as np\n",
    "a=np.arange(1,16).reshape((3,5))\n",
    "a+2"
   ]
  },
  {
   "cell_type": "code",
   "execution_count": 5,
   "id": "55fb254d",
   "metadata": {},
   "outputs": [
    {
     "data": {
      "text/plain": [
       "array([[-1,  0,  1,  2,  3],\n",
       "       [ 4,  5,  6,  7,  8],\n",
       "       [ 9, 10, 11, 12, 13]])"
      ]
     },
     "execution_count": 5,
     "metadata": {},
     "output_type": "execute_result"
    }
   ],
   "source": [
    "import numpy as np\n",
    "a=np.arange(1,16).reshape((3,5))\n",
    "a-2"
   ]
  },
  {
   "cell_type": "code",
   "execution_count": 6,
   "id": "653e77b0",
   "metadata": {},
   "outputs": [
    {
     "data": {
      "text/plain": [
       "array([[ 2,  4,  6,  8, 10],\n",
       "       [12, 14, 16, 18, 20],\n",
       "       [22, 24, 26, 28, 30]])"
      ]
     },
     "execution_count": 6,
     "metadata": {},
     "output_type": "execute_result"
    }
   ],
   "source": [
    "import numpy as np\n",
    "a=np.arange(1,16).reshape((3,5))\n",
    "a*2"
   ]
  },
  {
   "cell_type": "code",
   "execution_count": 8,
   "id": "18e530ca",
   "metadata": {},
   "outputs": [
    {
     "data": {
      "text/plain": [
       "array([[0.5, 1. , 1.5, 2. , 2.5],\n",
       "       [3. , 3.5, 4. , 4.5, 5. ],\n",
       "       [5.5, 6. , 6.5, 7. , 7.5]])"
      ]
     },
     "execution_count": 8,
     "metadata": {},
     "output_type": "execute_result"
    }
   ],
   "source": [
    "import numpy as np\n",
    "a=np.arange(1,16).reshape((3,5))\n",
    "a/2"
   ]
  },
  {
   "cell_type": "code",
   "execution_count": 9,
   "id": "86a42746",
   "metadata": {},
   "outputs": [
    {
     "data": {
      "text/plain": [
       "array([[  1,   4,   9,  16,  25],\n",
       "       [ 36,  49,  64,  81, 100],\n",
       "       [121, 144, 169, 196, 225]], dtype=int32)"
      ]
     },
     "execution_count": 9,
     "metadata": {},
     "output_type": "execute_result"
    }
   ],
   "source": [
    "import numpy as np\n",
    "a=np.arange(1,16).reshape((3,5))\n",
    "a**2"
   ]
  },
  {
   "cell_type": "code",
   "execution_count": 10,
   "id": "6ab78da8",
   "metadata": {},
   "outputs": [
    {
     "name": "stderr",
     "output_type": "stream",
     "text": [
      "C:\\Users\\Vikas Pandey\\AppData\\Local\\Temp\\ipykernel_9064\\1746050201.py:3: RuntimeWarning: divide by zero encountered in true_divide\n",
      "  a/0\n"
     ]
    },
    {
     "data": {
      "text/plain": [
       "array([[inf, inf, inf, inf, inf],\n",
       "       [inf, inf, inf, inf, inf],\n",
       "       [inf, inf, inf, inf, inf]])"
      ]
     },
     "execution_count": 10,
     "metadata": {},
     "output_type": "execute_result"
    }
   ],
   "source": [
    "import numpy as np\n",
    "a=np.arange(1,16).reshape((3,5))\n",
    "a/0"
   ]
  },
  {
   "cell_type": "code",
   "execution_count": 18,
   "id": "6cae55c2",
   "metadata": {},
   "outputs": [
    {
     "data": {
      "text/plain": [
       "array([[-14, -12, -10,  -8,  -6],\n",
       "       [ -4,  -2,   0,   2,   4],\n",
       "       [  6,   8,  10,  12,  14]])"
      ]
     },
     "execution_count": 18,
     "metadata": {},
     "output_type": "execute_result"
    }
   ],
   "source": [
    "import numpy as np\n",
    "a=np.arange(1,16).reshape((3,5))\n",
    "b=np.arange(-15,0).reshape((3,5))\n",
    "a+b"
   ]
  },
  {
   "cell_type": "code",
   "execution_count": 19,
   "id": "f8372496",
   "metadata": {},
   "outputs": [
    {
     "data": {
      "text/plain": [
       "array([[16, 16, 16, 16, 16],\n",
       "       [16, 16, 16, 16, 16],\n",
       "       [16, 16, 16, 16, 16]])"
      ]
     },
     "execution_count": 19,
     "metadata": {},
     "output_type": "execute_result"
    }
   ],
   "source": [
    "import numpy as np\n",
    "a=np.arange(1,16).reshape((3,5))\n",
    "b=np.arange(-15,0).reshape((3,5))\n",
    "a-b"
   ]
  },
  {
   "cell_type": "code",
   "execution_count": 24,
   "id": "7b2a4572",
   "metadata": {},
   "outputs": [
    {
     "data": {
      "text/plain": [
       "array([[-15, -28, -39, -48, -55],\n",
       "       [-60, -63, -64, -63, -60],\n",
       "       [-55, -48, -39, -28, -15]])"
      ]
     },
     "execution_count": 24,
     "metadata": {},
     "output_type": "execute_result"
    }
   ],
   "source": [
    "import numpy as np\n",
    "a=np.arange(1,16).reshape((3,5))\n",
    "b=np.arange(-15,0).reshape((3,5))\n",
    "a*b         #it does not follow actual mattrix multiplication; it multiplies element to element"
   ]
  },
  {
   "cell_type": "code",
   "execution_count": 21,
   "id": "79d1c615",
   "metadata": {},
   "outputs": [
    {
     "data": {
      "text/plain": [
       "array([[ -0.06666667,  -0.14285714,  -0.23076923,  -0.33333333,\n",
       "         -0.45454545],\n",
       "       [ -0.6       ,  -0.77777778,  -1.        ,  -1.28571429,\n",
       "         -1.66666667],\n",
       "       [ -2.2       ,  -3.        ,  -4.33333333,  -7.        ,\n",
       "        -15.        ]])"
      ]
     },
     "execution_count": 21,
     "metadata": {},
     "output_type": "execute_result"
    }
   ],
   "source": [
    "import numpy as np\n",
    "a=np.arange(1,16).reshape((3,5))\n",
    "b=np.arange(-15,0).reshape((3,5))\n",
    "a/b"
   ]
  },
  {
   "cell_type": "code",
   "execution_count": 23,
   "id": "8fcf73e3",
   "metadata": {},
   "outputs": [
    {
     "data": {
      "text/plain": [
       "array([[-105,  -90,  -75],\n",
       "       [-330, -290, -250],\n",
       "       [-555, -490, -425]])"
      ]
     },
     "execution_count": 23,
     "metadata": {},
     "output_type": "execute_result"
    }
   ],
   "source": [
    "import numpy as np\n",
    "a=np.arange(1,16).reshape((3,5))\n",
    "b=np.arange(-15,0).reshape((5,3))\n",
    "a.dot(b)       #used for actual matrix multiplication"
   ]
  }
 ],
 "metadata": {
  "kernelspec": {
   "display_name": "Python 3 (ipykernel)",
   "language": "python",
   "name": "python3"
  },
  "language_info": {
   "codemirror_mode": {
    "name": "ipython",
    "version": 3
   },
   "file_extension": ".py",
   "mimetype": "text/x-python",
   "name": "python",
   "nbconvert_exporter": "python",
   "pygments_lexer": "ipython3",
   "version": "3.9.12"
  }
 },
 "nbformat": 4,
 "nbformat_minor": 5
}
