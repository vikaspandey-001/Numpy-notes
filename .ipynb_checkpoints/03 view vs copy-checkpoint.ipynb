{
 "cells": [
  {
   "cell_type": "markdown",
   "id": "4a4c3c62",
   "metadata": {},
   "source": [
    "## View : It's changes reflects in array"
   ]
  },
  {
   "cell_type": "code",
   "execution_count": 6,
   "id": "f70f9aa6",
   "metadata": {},
   "outputs": [
    {
     "name": "stdout",
     "output_type": "stream",
     "text": [
      "[0 0 0]\n",
      "[ 5 10 15  0  0  0 35 40 45 50]\n"
     ]
    }
   ],
   "source": [
    "import numpy as np\n",
    "a=np.array([5,10,15,20,25,30,35,40,45,50])\n",
    "slicing=a[3:6]\n",
    "slicing[:]=0\n",
    "print(slicing)\n",
    "print(a)"
   ]
  },
  {
   "cell_type": "markdown",
   "id": "601d9974",
   "metadata": {},
   "source": [
    "## Copy: It's changes not reflects in array"
   ]
  },
  {
   "cell_type": "code",
   "execution_count": 5,
   "id": "65dc5a8a",
   "metadata": {},
   "outputs": [
    {
     "name": "stdout",
     "output_type": "stream",
     "text": [
      "[0 0 0]\n",
      "[ 5 10 15 20 25 30 35 40 45 50]\n"
     ]
    }
   ],
   "source": [
    "import numpy as np\n",
    "a=np.array([5,10,15,20,25,30,35,40,45,50])\n",
    "slicing=a[3:6].copy()\n",
    "slicing[:]=0\n",
    "print(slicing)\n",
    "print(a)"
   ]
  }
 ],
 "metadata": {
  "kernelspec": {
   "display_name": "Python 3 (ipykernel)",
   "language": "python",
   "name": "python3"
  },
  "language_info": {
   "codemirror_mode": {
    "name": "ipython",
    "version": 3
   },
   "file_extension": ".py",
   "mimetype": "text/x-python",
   "name": "python",
   "nbconvert_exporter": "python",
   "pygments_lexer": "ipython3",
   "version": "3.9.12"
  }
 },
 "nbformat": 4,
 "nbformat_minor": 5
}
